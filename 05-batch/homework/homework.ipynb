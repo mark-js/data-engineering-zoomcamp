{
 "cells": [
  {
   "cell_type": "code",
   "execution_count": 92,
   "id": "83c6d461-0d04-4439-93da-ebff11bb48a6",
   "metadata": {},
   "outputs": [],
   "source": [
    "from pyspark.sql import SparkSession, types\n",
    "import pyspark.sql.functions as F\n",
    "from datetime import datetime, timedelta"
   ]
  },
  {
   "cell_type": "markdown",
   "id": "4f4e815e-055f-4e5e-9593-f4d2f884620b",
   "metadata": {},
   "source": [
    "#### **Question 1: Install Spark and PySpark**"
   ]
  },
  {
   "cell_type": "code",
   "execution_count": 5,
   "id": "8f304523-8df7-4c3d-8572-aded7d8d9352",
   "metadata": {},
   "outputs": [
    {
     "name": "stderr",
     "output_type": "stream",
     "text": [
      "Setting default log level to \"WARN\".\n",
      "To adjust logging level use sc.setLogLevel(newLevel). For SparkR, use setLogLevel(newLevel).\n",
      "25/03/06 14:14:33 WARN NativeCodeLoader: Unable to load native-hadoop library for your platform... using builtin-java classes where applicable\n"
     ]
    }
   ],
   "source": [
    "spark = SparkSession.builder \\\n",
    "    .master('local[*]') \\\n",
    "    .appName('test') \\\n",
    "    .getOrCreate()"
   ]
  },
  {
   "cell_type": "code",
   "execution_count": 6,
   "id": "97c01320-af56-4269-bb2f-3fc068a6161f",
   "metadata": {},
   "outputs": [
    {
     "data": {
      "text/plain": [
       "'3.5.5'"
      ]
     },
     "execution_count": 6,
     "metadata": {},
     "output_type": "execute_result"
    }
   ],
   "source": [
    "spark.version"
   ]
  },
  {
   "cell_type": "markdown",
   "id": "1a416391-2844-4a5b-bb70-904d8c808285",
   "metadata": {},
   "source": [
    "#### **Question 2: Yellow October 2024**"
   ]
  },
  {
   "cell_type": "code",
   "execution_count": 7,
   "id": "1c6aea92-b547-4294-94f6-c1e96d4450ed",
   "metadata": {},
   "outputs": [],
   "source": [
    "df = spark.read.parquet('data/*.parquet')"
   ]
  },
  {
   "cell_type": "code",
   "execution_count": 9,
   "id": "13ea3b68-967f-4859-b72c-ec32657e4421",
   "metadata": {},
   "outputs": [
    {
     "name": "stderr",
     "output_type": "stream",
     "text": [
      "                                                                                "
     ]
    }
   ],
   "source": [
    "df.repartition(4).write.parquet('data/2024-10')"
   ]
  },
  {
   "cell_type": "code",
   "execution_count": 11,
   "id": "78aee3a0-1289-4f00-a67f-584804a80ddc",
   "metadata": {},
   "outputs": [],
   "source": [
    "# 25MB"
   ]
  },
  {
   "cell_type": "markdown",
   "id": "0ae141c9-dce2-469a-bcfc-8666336f5fa7",
   "metadata": {},
   "source": [
    "#### **Question 3: Count records**"
   ]
  },
  {
   "cell_type": "code",
   "execution_count": 13,
   "id": "c06813b7-b03d-4845-bc41-255ddf5837a2",
   "metadata": {},
   "outputs": [
    {
     "data": {
      "text/plain": [
       "StructType([StructField('VendorID', IntegerType(), True), StructField('tpep_pickup_datetime', TimestampNTZType(), True), StructField('tpep_dropoff_datetime', TimestampNTZType(), True), StructField('passenger_count', LongType(), True), StructField('trip_distance', DoubleType(), True), StructField('RatecodeID', LongType(), True), StructField('store_and_fwd_flag', StringType(), True), StructField('PULocationID', IntegerType(), True), StructField('DOLocationID', IntegerType(), True), StructField('payment_type', LongType(), True), StructField('fare_amount', DoubleType(), True), StructField('extra', DoubleType(), True), StructField('mta_tax', DoubleType(), True), StructField('tip_amount', DoubleType(), True), StructField('tolls_amount', DoubleType(), True), StructField('improvement_surcharge', DoubleType(), True), StructField('total_amount', DoubleType(), True), StructField('congestion_surcharge', DoubleType(), True), StructField('Airport_fee', DoubleType(), True)])"
      ]
     },
     "execution_count": 13,
     "metadata": {},
     "output_type": "execute_result"
    }
   ],
   "source": [
    "df.schema"
   ]
  },
  {
   "cell_type": "code",
   "execution_count": 28,
   "id": "8094b572-c95e-4c73-9f9b-0fecf73b672d",
   "metadata": {},
   "outputs": [
    {
     "data": {
      "text/plain": [
       "128893"
      ]
     },
     "execution_count": 28,
     "metadata": {},
     "output_type": "execute_result"
    }
   ],
   "source": [
    "dt = datetime(year=2024, month=10, day=15)\n",
    "\n",
    "df.filter((df.tpep_pickup_datetime >= dt) & (df.tpep_pickup_datetime < dt + timedelta(days=1))).count()"
   ]
  },
  {
   "cell_type": "code",
   "execution_count": 42,
   "id": "946b3f73-fd3c-4afb-b412-031c43647d08",
   "metadata": {},
   "outputs": [
    {
     "data": {
      "text/plain": [
       "128893"
      ]
     },
     "execution_count": 42,
     "metadata": {},
     "output_type": "execute_result"
    }
   ],
   "source": [
    "df = df.withColumn('date', F.to_date(df.tpep_pickup_datetime))\n",
    "df.filter(df.date == dt).count()"
   ]
  },
  {
   "cell_type": "code",
   "execution_count": 43,
   "id": "99d386b8-225f-44a8-96cc-8734a58dcde4",
   "metadata": {},
   "outputs": [],
   "source": [
    "df.createOrReplaceTempView('yellow')"
   ]
  },
  {
   "cell_type": "code",
   "execution_count": 55,
   "id": "e93d883d-e9a4-4e71-881f-acc43f5f9852",
   "metadata": {},
   "outputs": [
    {
     "name": "stdout",
     "output_type": "stream",
     "text": [
      "+--------+\n",
      "|count(1)|\n",
      "+--------+\n",
      "|  128893|\n",
      "+--------+\n",
      "\n"
     ]
    }
   ],
   "source": [
    "spark.sql(\"\"\"\n",
    "    SELECT count(*)\n",
    "    FROM yellow\n",
    "    WHERE tpep_pickup_datetime >= '2024-10-15' AND tpep_pickup_datetime < '2024-10-16';\n",
    "\"\"\").show()"
   ]
  },
  {
   "cell_type": "code",
   "execution_count": 56,
   "id": "8843dd3d-415d-4a84-9c6f-fcd308baccfe",
   "metadata": {},
   "outputs": [
    {
     "name": "stdout",
     "output_type": "stream",
     "text": [
      "+--------+\n",
      "|count(1)|\n",
      "+--------+\n",
      "|  128893|\n",
      "+--------+\n",
      "\n"
     ]
    }
   ],
   "source": [
    "spark.sql(\"\"\"\n",
    "    SELECT count(*)\n",
    "    FROM yellow\n",
    "    WHERE date = '2024-10-15';\n",
    "\"\"\").show()"
   ]
  },
  {
   "cell_type": "markdown",
   "id": "c3aee84c-761d-42c9-9c83-41ec4148611f",
   "metadata": {},
   "source": [
    "#### **Question 4: Longest trip**"
   ]
  },
  {
   "cell_type": "code",
   "execution_count": 78,
   "id": "f37d95fa-296b-4931-97ec-c9651bef6d3d",
   "metadata": {},
   "outputs": [
    {
     "name": "stdout",
     "output_type": "stream",
     "text": [
      "+-------------------------------------------------------------------------------------------------------------------------------------------+\n",
      "|((max((unix_timestamp(tpep_dropoff_datetime, yyyy-MM-dd HH:mm:ss) - unix_timestamp(tpep_pickup_datetime, yyyy-MM-dd HH:mm:ss))) / 60) / 60)|\n",
      "+-------------------------------------------------------------------------------------------------------------------------------------------+\n",
      "|                                                                                                                          162.6177777777778|\n",
      "+-------------------------------------------------------------------------------------------------------------------------------------------+\n",
      "\n"
     ]
    }
   ],
   "source": [
    "df.select(F.max(F.unix_timestamp(df.tpep_dropoff_datetime) - F.unix_timestamp(df.tpep_pickup_datetime))/60/60).show()"
   ]
  },
  {
   "cell_type": "markdown",
   "id": "0fe652be-bc63-49da-8025-342fb8576795",
   "metadata": {},
   "source": [
    "#### **Question 5: User Interface**"
   ]
  },
  {
   "cell_type": "code",
   "execution_count": 80,
   "id": "c20beb42-1572-4956-9196-42db90c29fd6",
   "metadata": {},
   "outputs": [
    {
     "data": {
      "text/plain": [
       "4040"
      ]
     },
     "execution_count": 80,
     "metadata": {},
     "output_type": "execute_result"
    }
   ],
   "source": [
    "4040"
   ]
  },
  {
   "cell_type": "markdown",
   "id": "480f071e-3ed6-4bd5-b98d-d3123d1eeb13",
   "metadata": {},
   "source": [
    "#### **Question 6: Least frequent pickup location zone**"
   ]
  },
  {
   "cell_type": "code",
   "execution_count": 93,
   "id": "21dd188e-1285-429c-b166-c34a30df505d",
   "metadata": {},
   "outputs": [],
   "source": [
    "schema = types.StructType([\n",
    "    types.StructField('LocationID', types.IntegerType(), True), \n",
    "    types.StructField('Borough', types.StringType(), True), \n",
    "    types.StructField('Zone', types.StringType(), True), \n",
    "    types.StructField('service_zone', types.StringType(), True)\n",
    "])\n",
    "\n",
    "df_zone = spark.read \\\n",
    "    .schema(schema) \\\n",
    "    .option('header', True) \\\n",
    "    .csv('data/taxi_zone_lookup.csv')"
   ]
  },
  {
   "cell_type": "code",
   "execution_count": 101,
   "id": "9e7a0dbb-ba22-4809-a1e5-74168ffa9940",
   "metadata": {},
   "outputs": [],
   "source": [
    "df_join = df.join(df_zone, on=df.PULocationID == df_zone.LocationID, how='left')"
   ]
  },
  {
   "cell_type": "code",
   "execution_count": 110,
   "id": "b0f9f11b-f223-4e4c-b328-4998cec2f67c",
   "metadata": {},
   "outputs": [
    {
     "name": "stdout",
     "output_type": "stream",
     "text": [
      "+---------------------------------------------+-----+\n",
      "|Zone                                         |count|\n",
      "+---------------------------------------------+-----+\n",
      "|Governor's Island/Ellis Island/Liberty Island|1    |\n",
      "|Rikers Island                                |2    |\n",
      "|Arden Heights                                |2    |\n",
      "|Jamaica Bay                                  |3    |\n",
      "|Green-Wood Cemetery                          |3    |\n",
      "|Eltingville/Annadale/Prince's Bay            |4    |\n",
      "|Charleston/Tottenville                       |4    |\n",
      "|West Brighton                                |4    |\n",
      "|Port Richmond                                |4    |\n",
      "|Rossville/Woodrow                            |4    |\n",
      "+---------------------------------------------+-----+\n",
      "only showing top 10 rows\n",
      "\n"
     ]
    }
   ],
   "source": [
    "df_join.groupby(df_join.Zone).count().sort(F.asc('count')).show(10, truncate=False)"
   ]
  },
  {
   "cell_type": "code",
   "execution_count": 112,
   "id": "c866bb5c-2f9f-4fd6-943b-2cfed208dc5a",
   "metadata": {},
   "outputs": [],
   "source": [
    "df_zone.createOrReplaceTempView('zone')"
   ]
  },
  {
   "cell_type": "code",
   "execution_count": 114,
   "id": "c368da81-8673-4eeb-a9c3-826616e559fc",
   "metadata": {},
   "outputs": [
    {
     "name": "stdout",
     "output_type": "stream",
     "text": [
      "+---------------------------------------------+-----+\n",
      "|Zone                                         |count|\n",
      "+---------------------------------------------+-----+\n",
      "|Governor's Island/Ellis Island/Liberty Island|1    |\n",
      "|Rikers Island                                |2    |\n",
      "|Arden Heights                                |2    |\n",
      "|Jamaica Bay                                  |3    |\n",
      "|Green-Wood Cemetery                          |3    |\n",
      "|Eltingville/Annadale/Prince's Bay            |4    |\n",
      "|Charleston/Tottenville                       |4    |\n",
      "|West Brighton                                |4    |\n",
      "|Port Richmond                                |4    |\n",
      "|Rossville/Woodrow                            |4    |\n",
      "+---------------------------------------------+-----+\n",
      "only showing top 10 rows\n",
      "\n"
     ]
    }
   ],
   "source": [
    "spark.sql(\"\"\"\n",
    "    SELECT\n",
    "        Zone,\n",
    "        count(1) as count\n",
    "    FROM\n",
    "        yellow\n",
    "    LEFT JOIN\n",
    "        zone ON yellow.PULocationID = zone.LocationID\n",
    "    GROUP BY\n",
    "        Zone\n",
    "    ORDER BY\n",
    "        count ASC        \n",
    "\"\"\").show(10, truncate=False)"
   ]
  },
  {
   "cell_type": "code",
   "execution_count": null,
   "id": "2484c49c-c8db-4b59-af36-969eef1bc045",
   "metadata": {},
   "outputs": [],
   "source": []
  }
 ],
 "metadata": {
  "kernelspec": {
   "display_name": "Python 3 (ipykernel)",
   "language": "python",
   "name": "python3"
  },
  "language_info": {
   "codemirror_mode": {
    "name": "ipython",
    "version": 3
   },
   "file_extension": ".py",
   "mimetype": "text/x-python",
   "name": "python",
   "nbconvert_exporter": "python",
   "pygments_lexer": "ipython3",
   "version": "3.12.9"
  }
 },
 "nbformat": 4,
 "nbformat_minor": 5
}
